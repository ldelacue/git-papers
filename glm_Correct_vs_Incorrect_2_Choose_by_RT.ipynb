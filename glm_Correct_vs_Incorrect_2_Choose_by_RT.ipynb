{
  "nbformat": 4,
  "nbformat_minor": 0,
  "metadata": {
    "colab": {
      "name": "Untitled1.ipynb",
      "provenance": [],
      "include_colab_link": true
    },
    "kernelspec": {
      "name": "python3",
      "display_name": "Python 3"
    },
    "language_info": {
      "name": "python"
    }
  },
  "cells": [
    {
      "cell_type": "markdown",
      "metadata": {
        "id": "view-in-github",
        "colab_type": "text"
      },
      "source": [
        "<a href=\"https://colab.research.google.com/github/ldelacue/git-papers/blob/master/glm_Correct_vs_Incorrect_2_Choose_by_RT.ipynb\" target=\"_parent\"><img src=\"https://colab.research.google.com/assets/colab-badge.svg\" alt=\"Open In Colab\"/></a>"
      ]
    },
    {
      "cell_type": "markdown",
      "metadata": {
        "id": "a-k7USwKtCl2"
      },
      "source": [
        "Correct vs Incorrect"
      ]
    },
    {
      "cell_type": "code",
      "metadata": {
        "id": "scyjAl_8wID1",
        "colab": {
          "base_uri": "https://localhost:8080/"
        },
        "outputId": "26eb7d55-a2dd-4a9e-c0c9-abefd6e5ff11"
      },
      "source": [
        "!pip install --quiet git+https://github.com/rodjfg/los-fabulosos-pixelotls"
      ],
      "execution_count": 2,
      "outputs": [
        {
          "output_type": "stream",
          "text": [
            "  Building wheel for los-fabulosos-pixelotls (setup.py) ... \u001b[?25l\u001b[?25hdone\n"
          ],
          "name": "stdout"
        }
      ]
    },
    {
      "cell_type": "code",
      "metadata": {
        "id": "FI5H955xsFHl"
      },
      "source": [
        "from los_fabulosos_pixelotls.tools import load_raw_data, select_by_areas, select_by_contrast, select_trials, calculate_mean_firing_rate, select_by_response\n",
        "import numpy as np\n",
        "import math\n",
        "from matplotlib import rcParams \n",
        "from matplotlib import pyplot as plt\n",
        "from sklearn.model_selection import train_test_split\n",
        "from sklearn.linear_model import LogisticRegressionCV\n",
        "from sklearn.linear_model import LogisticRegressionCV, LogisticRegression\n",
        "\n",
        "rcParams['font.size'] =15\n",
        "rcParams['axes.spines.top'] = False\n",
        "rcParams['axes.spines.right'] = False\n",
        "rcParams['figure.autolayout'] = True"
      ],
      "execution_count": 3,
      "outputs": []
    },
    {
      "cell_type": "code",
      "metadata": {
        "id": "O8KK-j7_svEW"
      },
      "source": [
        "# get data\n",
        "alldat = load_raw_data()"
      ],
      "execution_count": 4,
      "outputs": []
    },
    {
      "cell_type": "code",
      "metadata": {
        "id": "rIOo0zyfggIZ"
      },
      "source": [
        ""
      ],
      "execution_count": null,
      "outputs": []
    },
    {
      "cell_type": "code",
      "metadata": {
        "id": "IF9eCi3rie79"
      },
      "source": [
        "def select_by_outcome(dat, feedback_type: str = 'correct'):\n",
        "    '''Find indices of trials with the specified outcome (correct, incorrect) in the dataset provided from a single experiment. \n",
        "       Correct = Rewarded, Incorrect = punished. Note that succesful no-go trials indices are also included.\n",
        "    Args:\n",
        "        dat (dict): data dictionary from a single experiment. For example dat = alldat[11] in the example notebook.\n",
        "        feedback_type (str): str specifying outcome. \"correct\", \"incorrect\"\n",
        "    Returns:\n",
        "        indices (1D array): array of indices from trials.'''\n",
        "\n",
        "    if feedback_type == 'correct':\n",
        "        indices = np.where(dat['feedback_type'] > 0)[0]\n",
        "    elif feedback_type == 'incorrect':\n",
        "        indices = np.where(dat['feedback_type'] < 0)[0]\n",
        "  \n",
        "    else:\n",
        "        raise Warning('wrong response_type input, choose: correct or incorrect')\n",
        "\n",
        "    return indices"
      ],
      "execution_count": 5,
      "outputs": []
    },
    {
      "cell_type": "code",
      "metadata": {
        "id": "y3WrRUeasz1g"
      },
      "source": [
        "#selected_regions = [\"MB\"]\n",
        "#selected_regions = [\"VISa\", \"VISam\", \"VISl\", \"VISp\", \"VISpm\", \"VISrl\"]\n",
        "selected_regions = [\"VISL\"]\n",
        "\n",
        "\n",
        "gaussfilter = True\n",
        "gauss_sigma = 1\n",
        "\n",
        "  #zscore the neuron responses\n",
        "\n",
        "def zscore(data_to_normalize, window= [0,250]):\n",
        "\n",
        "   \"\"\"\n",
        "   For each time bin of a given neuron spike train (data_to_normalize), substract\n",
        "   the mean over a given window (by default set to the whole trial \n",
        "   duration) and divide it over the STD. \n",
        "   \n",
        "   A z-score can then essentially show what multiple of standard deviation a\n",
        "   firing rate is above the mean.\n",
        "   \"\"\"\n",
        "   ZscoredData     = np.zeros((len(data_to_normalize),len(data_to_normalize.T)))\n",
        "   AllMean         = np.zeros(len(data_to_normalize))\n",
        "   AllSTD          = np.zeros(len(data_to_normalize))\n",
        "   for neur in range(len(data_to_normalize)):\n",
        "\n",
        "    mean_window = np.mean(data_to_normalize[neur,:window[-1]+1])\n",
        "    std_window  = np.std(data_to_normalize[neur,:window[-1]+1]) + np.finfo(float).eps\n",
        "\n",
        "\n",
        "    ZscoredData[neur]  = ((data_to_normalize[neur] - mean_window) / std_window)\n",
        "    AllSTD[neur] = std_window\n",
        "    AllMean[neur] = mean_window\n",
        "\n",
        "    return ZscoredData, AllMean, AllSTD\n",
        "\n",
        "   #select by reaction times\n",
        "\n",
        "def select_by_response_win(dat, which_win: str = 'after', threshold = 1.5):\n",
        "\n",
        "    '''Find indices of trials with a reaction time above or below the one indicated at threshold.\n",
        "    Args:\n",
        "        dat (dict): data dictionary from a single experiment. For example dat = alldat[11] in the example notebook.\n",
        "    Returns:\n",
        "        indices (1D array): array of indices from trials.'''\n",
        "\n",
        "    if which_win == 'after':\n",
        "        indices = np.where(dat['response_time'] >= threshold)[0]\n",
        "    elif which_win == 'before':\n",
        "        indices = np.where(dat['response_time'] <= threshold)[0]\n",
        "  \n",
        "    return indices\n",
        "\n",
        "\n",
        "\n",
        "samples = np.empty((0,125))\n",
        "y = np.empty((0,))\n",
        "\n",
        "for dat in alldat:\n",
        "  dt = dat['bin_size']\n",
        "\n",
        "  neurons_indices_in_area = select_by_areas(dat, selected_regions = selected_regions)\n",
        "\n",
        "  #BinGoCue     = (dat['gocue']*100).astype(int)\n",
        "  #BinGoCue     = (50+dat['gocue']*100).astype(int)\n",
        "  #BinGoCue     = (50+dat['feedback_time']*100).astype(int)\n",
        "\n",
        "  \n",
        "  if len(neurons_indices_in_area) > 0:\n",
        "    after_trials = select_by_response_win(dat, which_win = 'after', threshold = 2.2)\n",
        "    \n",
        "    total_correct_trials   = select_by_outcome(dat, feedback_type = 'correct')   # trials in which mouse was correct   (trials in which the animals was reinforced, water reward)\n",
        "    \n",
        "    total_incorrect_trials = select_by_outcome(dat, feedback_type = 'incorrect') # trials in which mouse was incorrect (trials in which the animals was punished, whit noise burst)\n",
        "    no_go_trials     = select_by_contrast(dat, contrast_pair = (0, 0))     # no-go trials indices\n",
        "   \n",
        "\n",
        "    correct_trials   = [x for x in total_correct_trials if x in after_trials]   # we exclude no go trials\n",
        "    incorrect_trials = [x for x in total_incorrect_trials if x in after_trials] # we exclude no go trials\n",
        "    \n",
        "\n",
        "    # BinnedCorrect = BinGoCue[correct_trials]\n",
        "    # BinnedIncorrect = BinGoCue[incorrect_trials]\n",
        "    # Binned_correct_firing_rates = np.empty((0,250))\n",
        "    # Binned_incorrect_firing_rates = np.empty((0,250))\n",
        "\n",
        "    # for trial in \n",
        "    # average firing rate across neuron population (e.g. VISp) for each trial in which mouse moved to the left\n",
        "\n",
        "\n",
        "    correct_firing_rates = calculate_mean_firing_rate(dat['spks'][neurons_indices_in_area][:,correct_trials], dt, ['population'], gaussfilter = gaussfilter, gauss_sigma = gauss_sigma)\n",
        "\n",
        "    # average firing rate across neuron population (e.g. VISp) for each trial in which mouse moved to the right\n",
        "    incorrect_firing_rates = calculate_mean_firing_rate(dat['spks'][neurons_indices_in_area][:,incorrect_trials], dt, ['population'], gaussfilter = gaussfilter, gauss_sigma = gauss_sigma)\n",
        "    \n",
        "    # for i, trial in enumerate(BinnedCorrect):\n",
        "   \n",
        "    #   Unimportant_name1   = correct_firing_rates[i, trial[0]-80:trial[0]+0]\n",
        "    #   Binned_correct_firing_rates   = np.concatenate((Binned_correct_firing_rates,Unimportant_name1[np.newaxis,:]),axis = 0)\n",
        "\n",
        "    # for i, trial in enumerate(BinnedIncorrect):\n",
        "    #   Unimportant_name2   = incorrect_firing_rates[i, trial[0]-80:trial[0]+0]\n",
        "    #   Binned_incorrect_firing_rates   = np.concatenate((Binned_incorrect_firing_rates,Unimportant_name2[np.newaxis,:]),axis = 0)\n",
        "    # correct_firing_rates   = Binned_correct_firing_rates \n",
        "    # incorrect_firing_rates = Binned_incorrect_firing_rates \n",
        "    # Find minimum number of samples that can be extracted from both conditions:\n",
        "    \n",
        "    # ALternative 1, we feed the model with equal number of positive and negative trials  # Thus, we find which\n",
        "    #one is the limitting condition and select only as many trials from the non-limiting condition. (this reduces our dataset substantially) \n",
        "    time_window = np.arange(0,250,2)\n",
        "\n",
        "    n_min   = min(correct_firing_rates.shape[0],incorrect_firing_rates.shape[0])\n",
        "    samples = np.concatenate((samples,correct_firing_rates[:n_min,time_window]),axis=0)  \n",
        "    samples = np.concatenate((samples,incorrect_firing_rates[:n_min,time_window]),axis=0)\n",
        "\n",
        "    y = np.concatenate( (y, np.ones(n_min)) )\n",
        "    y = np.concatenate( (y, np.zeros(n_min)) )\n",
        "\n",
        "    #print(math.floor(dat['gocue']*10))\n",
        "    \n",
        "    # Alternative 2, we feed the model with all the trials. This teaches better the model to recognise correct than incorrect trials.\n",
        "    # samples = np.concatenate((samples,correct_firing_rates),axis=0)\n",
        "    # samples = np.concatenate((samples,incorrect_firing_rates),axis=0)\n",
        "    \n",
        "    # # Create output variable to train the GLM. 1: when mouse was correct, 0: when mouse was incorrect\n",
        "    # y = np.concatenate( (y, np.ones(correct_firing_rates.shape[0])) )\n",
        "    # y = np.concatenate( (y, np.zeros(incorrect_firing_rates.shape[0])) )\n",
        "    # # Create output variable to train the GLM. 1: when mouse was correct, 0: when mouse was incorrect\n",
        "    #print(len(no_go_trials),len(correct_trials),len(incorrect_trials))\n",
        "    #print(y.shape)\n",
        "# print(AllMeanSTD[:])"
      ],
      "execution_count": 6,
      "outputs": []
    },
    {
      "cell_type": "code",
      "metadata": {
        "id": "CwcbRl9Xprw8",
        "colab": {
          "base_uri": "https://localhost:8080/"
        },
        "outputId": "a10b1614-93a9-4508-9d69-bde946583a44"
      },
      "source": [
        "# print((correct_firing_rates.shape))\n",
        "# print(np.min([(BinnedCorrect)]))\n",
        "# print(np.max([(BinnedCorrect)]))\n",
        "# print(len(BinnedCorrect))\n",
        "# print(np.min([(BinnedIncorrect)]))\n",
        "# print(np.max([(BinnedIncorrect)]))\n",
        "\n",
        "# print(samples.shape)\n",
        "# print(a[0][:-70]+50)\n",
        "# plt.hist(a[0][:-70]+50)\n",
        "\n",
        "\n",
        "# print(dat['gocue'][0:10])\n",
        "# print(dat['feedback_time'][0:10])\n",
        "print(len(total_correct_trials),len(correct_trials), len(total_incorrect_trials), len(incorrect_trials))\n"
      ],
      "execution_count": 103,
      "outputs": [
        {
          "output_type": "stream",
          "text": [
            "246 16 97 5\n"
          ],
          "name": "stdout"
        }
      ]
    },
    {
      "cell_type": "code",
      "metadata": {
        "id": "RQaDD3U2FpTJ",
        "colab": {
          "base_uri": "https://localhost:8080/",
          "height": 372
        },
        "outputId": "edcba48b-d601-4166-9150-d31660b28e13"
      },
      "source": [
        "#  counts, bins = np.histogram(dat['gocue'])\n",
        "#plt.hist(bins[:-1], bins, weights=counts)\n",
        "#print(correct_firing_rates.shape)\n",
        "#plt.hist(dat['feedback_time'][after_trials] )\n",
        "plt.hist(dat['feedback_time'] )\n",
        "\n",
        "#print(dat['reaction_time'])\n",
        "#counts, bins = np.histogram(BinGoCue)\n",
        "#plt.hist(bins[:-1], bins, weights=counts)\n",
        "#print(correct_firing_rates.shape)"
      ],
      "execution_count": 95,
      "outputs": [
        {
          "output_type": "execute_result",
          "data": {
            "text/plain": [
              "(array([41., 50., 63., 42., 11.,  8.,  7., 10., 63., 48.]),\n",
              " array([0.51433742, 0.69619435, 0.87805127, 1.05990819, 1.24176512,\n",
              "        1.42362204, 1.60547896, 1.78733589, 1.96919281, 2.15104973,\n",
              "        2.33290666]),\n",
              " <a list of 10 Patch objects>)"
            ]
          },
          "metadata": {
            "tags": []
          },
          "execution_count": 95
        },
        {
          "output_type": "display_data",
          "data": {
            "image/png": "[encoded data removed]",
            "text/plain": [
              "<Figure size 432x288 with 1 Axes>"
            ]
          },
          "metadata": {
            "tags": [],
            "needs_background": "light"
          }
        }
      ]
    },
    {
      "cell_type": "code",
      "metadata": {
        "id": "TA_5EUAhhBPY",
        "colab": {
          "base_uri": "https://localhost:8080/"
        },
        "outputId": "88820ecb-3d9c-4490-f992-9469738cd533"
      },
      "source": [
        "print(neurons_indices_in_area[1].shape)\n",
        "print(dat['spks'].shape)\n"
      ],
      "execution_count": 57,
      "outputs": [
        {
          "output_type": "stream",
          "text": [
            "()\n",
            "(1348, 343, 250)\n"
          ],
          "name": "stdout"
        }
      ]
    },
    {
      "cell_type": "code",
      "metadata": {
        "id": "ZlOt418MwDMz",
        "colab": {
          "base_uri": "https://localhost:8080/"
        },
        "outputId": "d24f393a-b921-400c-9a1e-e8a2f99adb85"
      },
      "source": [
        "y.shape, samples.shape"
      ],
      "execution_count": 34,
      "outputs": [
        {
          "output_type": "execute_result",
          "data": {
            "text/plain": [
              "((612,), (612, 250))"
            ]
          },
          "metadata": {
            "tags": []
          },
          "execution_count": 34
        }
      ]
    },
    {
      "cell_type": "markdown",
      "metadata": {
        "id": "u-xzQwloyjIh"
      },
      "source": [
        "TRAIN AND TEST SPLIT"
      ]
    },
    {
      "cell_type": "code",
      "metadata": {
        "id": "z0BthXl-wLYi",
        "colab": {
          "base_uri": "https://localhost:8080/",
          "height": 374
        },
        "outputId": "ccf9f8e0-6955-419e-ab85-e06357afc88d"
      },
      "source": [
        "samples_train, samples_test, y_train, y_test = train_test_split(samples, y, test_size=0.30, random_state=42)\n",
        "\n",
        "\n",
        "#samples_train, AllMean, AllSTD = zscore(samples_train, window = [0,80] )\n",
        "\n",
        "#print(AllMean[2:5],AllSTD[2:5],samples_train[3:6])\n",
        "\n",
        "#samples_test, AllMeanBaseline, AllMeanSTD = zscore(samples_test, window = [0,80] )\n",
        "print(BinnedCorrect[0])\n",
        "print(BinnedCorrect[1],BinnedCorrect[2],BinnedCorrect[3],BinnedCorrect[4])\n",
        "\n"
      ],
      "execution_count": 7,
      "outputs": [
        {
          "output_type": "error",
          "ename": "ValueError",
          "evalue": "ignored",
          "traceback": [
            "\u001b[0;31m---------------------------------------------------------------------------\u001b[0m",
            "\u001b[0;31mValueError\u001b[0m                                Traceback (most recent call last)",
            "\u001b[0;32m<ipython-input-7-63ad789b7e5c>\u001b[0m in \u001b[0;36m<module>\u001b[0;34m()\u001b[0m\n\u001b[0;32m----> 1\u001b[0;31m \u001b[0msamples_train\u001b[0m\u001b[0;34m,\u001b[0m \u001b[0msamples_test\u001b[0m\u001b[0;34m,\u001b[0m \u001b[0my_train\u001b[0m\u001b[0;34m,\u001b[0m \u001b[0my_test\u001b[0m \u001b[0;34m=\u001b[0m \u001b[0mtrain_test_split\u001b[0m\u001b[0;34m(\u001b[0m\u001b[0msamples\u001b[0m\u001b[0;34m,\u001b[0m \u001b[0my\u001b[0m\u001b[0;34m,\u001b[0m \u001b[0mtest_size\u001b[0m\u001b[0;34m=\u001b[0m\u001b[0;36m0.30\u001b[0m\u001b[0;34m,\u001b[0m \u001b[0mrandom_state\u001b[0m\u001b[0;34m=\u001b[0m\u001b[0;36m42\u001b[0m\u001b[0;34m)\u001b[0m\u001b[0;34m\u001b[0m\u001b[0;34m\u001b[0m\u001b[0m\n\u001b[0m\u001b[1;32m      2\u001b[0m \u001b[0;34m\u001b[0m\u001b[0m\n\u001b[1;32m      3\u001b[0m \u001b[0;34m\u001b[0m\u001b[0m\n\u001b[1;32m      4\u001b[0m \u001b[0;31m#samples_train, AllMean, AllSTD = zscore(samples_train, window = [0,80] )\u001b[0m\u001b[0;34m\u001b[0m\u001b[0;34m\u001b[0m\u001b[0;34m\u001b[0m\u001b[0m\n\u001b[1;32m      5\u001b[0m \u001b[0;34m\u001b[0m\u001b[0m\n",
            "\u001b[0;32m/usr/local/lib/python3.7/dist-packages/sklearn/model_selection/_split.py\u001b[0m in \u001b[0;36mtrain_test_split\u001b[0;34m(*arrays, **options)\u001b[0m\n\u001b[1;32m   2120\u001b[0m     \u001b[0mn_samples\u001b[0m \u001b[0;34m=\u001b[0m \u001b[0m_num_samples\u001b[0m\u001b[0;34m(\u001b[0m\u001b[0marrays\u001b[0m\u001b[0;34m[\u001b[0m\u001b[0;36m0\u001b[0m\u001b[0;34m]\u001b[0m\u001b[0;34m)\u001b[0m\u001b[0;34m\u001b[0m\u001b[0;34m\u001b[0m\u001b[0m\n\u001b[1;32m   2121\u001b[0m     n_train, n_test = _validate_shuffle_split(n_samples, test_size, train_size,\n\u001b[0;32m-> 2122\u001b[0;31m                                               default_test_size=0.25)\n\u001b[0m\u001b[1;32m   2123\u001b[0m \u001b[0;34m\u001b[0m\u001b[0m\n\u001b[1;32m   2124\u001b[0m     \u001b[0;32mif\u001b[0m \u001b[0mshuffle\u001b[0m \u001b[0;32mis\u001b[0m \u001b[0;32mFalse\u001b[0m\u001b[0;34m:\u001b[0m\u001b[0;34m\u001b[0m\u001b[0;34m\u001b[0m\u001b[0m\n",
            "\u001b[0;32m/usr/local/lib/python3.7/dist-packages/sklearn/model_selection/_split.py\u001b[0m in \u001b[0;36m_validate_shuffle_split\u001b[0;34m(n_samples, test_size, train_size, default_test_size)\u001b[0m\n\u001b[1;32m   1803\u001b[0m             \u001b[0;34m'resulting train set will be empty. Adjust any of the '\u001b[0m\u001b[0;34m\u001b[0m\u001b[0;34m\u001b[0m\u001b[0m\n\u001b[1;32m   1804\u001b[0m             'aforementioned parameters.'.format(n_samples, test_size,\n\u001b[0;32m-> 1805\u001b[0;31m                                                 train_size)\n\u001b[0m\u001b[1;32m   1806\u001b[0m         )\n\u001b[1;32m   1807\u001b[0m \u001b[0;34m\u001b[0m\u001b[0m\n",
            "\u001b[0;31mValueError\u001b[0m: With n_samples=0, test_size=0.3 and train_size=None, the resulting train set will be empty. Adjust any of the aforementioned parameters."
          ]
        }
      ]
    },
    {
      "cell_type": "code",
      "metadata": {
        "id": "z6eaNM1UytH3"
      },
      "source": [
        "# C: float, default=1.0, Inverse of regularization strength; must be a positive float. Like in support vector machines, smaller values specify stronger regularization.\n",
        "clf = LogisticRegressionCV(Cs=10, cv=4, penalty='l1', solver='saga', tol=0.0001, max_iter=5000, random_state=42).fit(samples_train, y_train) # crossvalidation\n",
        "#clf = LogisticRegressionCV(Cs=5, cv=4, penalty='l1', solver='saga', tol=0.0001, max_iter=5000, random_state=42).fit(samples_train, y_train) # crossvalidation\n"
      ],
      "execution_count": null,
      "outputs": []
    },
    {
      "cell_type": "code",
      "metadata": {
        "id": "XS-OfzuGzdfo"
      },
      "source": [
        "clf.score(samples_test,y_test)"
      ],
      "execution_count": null,
      "outputs": []
    },
    {
      "cell_type": "code",
      "metadata": {
        "id": "AuQzs1ir1et6"
      },
      "source": [
        "clf.score(samples_train,y_train)"
      ],
      "execution_count": null,
      "outputs": []
    },
    {
      "cell_type": "code",
      "metadata": {
        "id": "Vf45cDb0xpCB"
      },
      "source": [
        "print(clf.C_) # OPtimal C value as specified with Crossvalidation"
      ],
      "execution_count": null,
      "outputs": []
    },
    {
      "cell_type": "code",
      "metadata": {
        "id": "Zst-UNAO24Ud"
      },
      "source": [
        "plt.subplot(211)\n",
        "plt.plot(clf.coef_[0,:])\n",
        "plt.subplot(212)\n",
        "plt.plot(np.abs(clf.coef_[0,:]))\n",
        "plt.show()"
      ],
      "execution_count": null,
      "outputs": []
    },
    {
      "cell_type": "code",
      "metadata": {
        "id": "Xc1juauU3eIO"
      },
      "source": [
        "def clasificator_analisis(model, X, y):\n",
        "  '''Compute accuracy with CV, confusion matrix, precision-recall scores and plot ROC and precision-recall curves.\n",
        "   Args: \n",
        "     model = model object trained from sklearn\n",
        "         X = input features in train or test\n",
        "         y = target in train or test\n",
        "   Return:\n",
        "    Print of all the scores computed and save accuracy, cm, precision, recall\n",
        "'''\n",
        "  \n",
        "  from sklearn.model_selection import cross_val_predict, cross_val_score\n",
        "  from sklearn.metrics import confusion_matrix, precision_score, recall_score, plot_precision_recall_curve, plot_roc_curve\n",
        "\n",
        "  #accu = cross_val_score(model, X, y, cv=5, scoring=\"accuracy\").mean()\n",
        "  #print(f'{model} \\nAccuracy:{accu}\\n')\n",
        "  pred = model.predict(X)\n",
        "  cm = confusion_matrix(y,pred)\n",
        "  print(f'Confusion Matrix: \\n {cm}\\n')\n",
        "  precision = precision_score(y,pred)\n",
        "  print('Precision:',precision)\n",
        "  recall = recall_score(y, pred)\n",
        "  print('Recall:', recall)\n",
        "  plot_precision_recall_curve(model, X, y)\n",
        "  plt.show()\n",
        "\n",
        "  plot_roc_curve(model, X, y)\n",
        "  plt.plot([0, 1], [0, 1], color='0.5', ls=':')\n",
        "  plt.show()\n"
      ],
      "execution_count": 64,
      "outputs": []
    },
    {
      "cell_type": "code",
      "metadata": {
        "id": "9TJ3UKLciKXV",
        "colab": {
          "base_uri": "https://localhost:8080/",
          "height": 659
        },
        "outputId": "a953b05c-9ab9-4e78-e640-dc99840e92f0"
      },
      "source": [
        "clasificator_analisis(clf, samples_test, y_test)"
      ],
      "execution_count": 65,
      "outputs": [
        {
          "output_type": "stream",
          "text": [
            "Confusion Matrix: \n",
            " [[283 154]\n",
            " [131 267]]\n",
            "\n",
            "Precision: 0.6342042755344418\n",
            "Recall: 0.6708542713567839\n"
          ],
          "name": "stdout"
        },
        {
          "output_type": "display_data",
          "data": {
            "image/png": "[encoded data removed]",
            "text/plain": [
              "<Figure size 432x288 with 1 Axes>"
            ]
          },
          "metadata": {
            "tags": [],
            "needs_background": "light"
          }
        },
        {
          "output_type": "display_data",
          "data": {
            "image/png": "[encoded data removed]",
            "text/plain": [
              "<Figure size 432x288 with 1 Axes>"
            ]
          },
          "metadata": {
            "tags": [],
            "needs_background": "light"
          }
        }
      ]
    },
    {
      "cell_type": "code",
      "metadata": {
        "id": "w0TXF_AWg4lS",
        "colab": {
          "base_uri": "https://localhost:8080/",
          "height": 304
        },
        "outputId": "25c7074e-e1c4-4380-806f-e4a0cda37378"
      },
      "source": [
        "from sklearn.metrics import plot_confusion_matrix\n",
        "plot_confusion_matrix(clf, samples_test, y_test)\n"
      ],
      "execution_count": 100,
      "outputs": [
        {
          "output_type": "execute_result",
          "data": {
            "text/plain": [
              "<sklearn.metrics._plot.confusion_matrix.ConfusionMatrixDisplay at 0x7f8057c2abd0>"
            ]
          },
          "metadata": {
            "tags": []
          },
          "execution_count": 100
        },
        {
          "output_type": "display_data",
          "data": {
            "image/png": "[encoded data removed]",
            "text/plain": [
              "<Figure size 432x288 with 2 Axes>"
            ]
          },
          "metadata": {
            "tags": [],
            "needs_background": "light"
          }
        }
      ]
    },
    {
      "cell_type": "code",
      "metadata": {
        "id": "RFe-8ND0g48L"
      },
      "source": [
        ""
      ],
      "execution_count": null,
      "outputs": []
    }
  ]
}